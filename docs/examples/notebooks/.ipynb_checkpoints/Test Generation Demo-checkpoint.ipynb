{
 "cells": [
  {
   "cell_type": "markdown",
   "id": "eec8fb5c-b66d-4cd1-9432-05678cde3607",
   "metadata": {},
   "source": [
    "# Using CLDK to generate JUnit tests\n",
    "\n",
    "\n",
    "In this tutorial, we will use CLDK to generate a JUnit test for all the methods in a Java Application. \n",
    "\n",
    "In this process, you will learn how to do the following:\n",
    "\n",
    "1. "
   ]
  },
  {
   "cell_type": "code",
   "execution_count": null,
   "id": "10072fb1-adc0-437f-ba7d-e33cd875c9ae",
   "metadata": {},
   "outputs": [],
   "source": []
  },
  {
   "cell_type": "code",
   "execution_count": null,
   "id": "34d51928-019a-4815-a99d-57051626ef06",
   "metadata": {},
   "outputs": [],
   "source": []
  }
 ],
 "metadata": {
  "kernelspec": {
   "display_name": "Python 3 (ipykernel)",
   "language": "python",
   "name": "python3"
  },
  "language_info": {
   "codemirror_mode": {
    "name": "ipython",
    "version": 3
   },
   "file_extension": ".py",
   "mimetype": "text/x-python",
   "name": "python",
   "nbconvert_exporter": "python",
   "pygments_lexer": "ipython3",
   "version": "3.11.9"
  }
 },
 "nbformat": 4,
 "nbformat_minor": 5
}
